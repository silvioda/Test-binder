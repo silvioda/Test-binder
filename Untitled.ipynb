{
 "cells": [
  {
   "cell_type": "code",
   "execution_count": 1,
   "metadata": {},
   "outputs": [
    {
     "data": {
      "text/plain": [
       "{'stations': ['5O.ENCR1 (ENCR)',\n",
       "  '5O.ENCR2 (ENCR)',\n",
       "  '5O.ENCR3 (ENCR)',\n",
       "  '5O.ENCR4 (ENCR)',\n",
       "  '5O.ENCR5 (ENCR)',\n",
       "  '5O.ENCR6 (ENCR)',\n",
       "  '5O.ENEA1 (ENEA)',\n",
       "  '5O.ENEA2 (ENEA)',\n",
       "  '5O.ENEA3 (ENEA)',\n",
       "  '5O.ENEA4 (ENEA)',\n",
       "  '5O.ENEA5 (ENEA)',\n",
       "  '5O.ENEA6 (ENEA)'],\n",
       " 'channels': ['5O.ENCR1.00.HDF',\n",
       "  '5O.ENCR2.00.HDF',\n",
       "  '5O.ENCR3.00.HDF',\n",
       "  '5O.ENCR4.00.HDF',\n",
       "  '5O.ENCR5.00.HDF',\n",
       "  '5O.ENCR6.00.HDF',\n",
       "  '5O.ENEA1.00.HDF',\n",
       "  '5O.ENEA2.00.HDF',\n",
       "  '5O.ENEA3.00.HDF',\n",
       "  '5O.ENEA4.00.HDF',\n",
       "  '5O.ENEA5.00.HDF',\n",
       "  '5O.ENEA6.00.HDF']}"
      ]
     },
     "execution_count": 1,
     "metadata": {},
     "output_type": "execute_result"
    }
   ],
   "source": [
    "from obspy import read_inventory\n",
    "example_filename = \"5O_DATALESS.xml\"\n",
    "inventory = read_inventory(example_filename)\n",
    "network = inventory.networks[0]\n",
    "network.get_contents()  "
   ]
  },
  {
   "cell_type": "code",
   "execution_count": 3,
   "metadata": {},
   "outputs": [
    {
     "ename": "TypeError",
     "evalue": "'list' object is not callable",
     "output_type": "error",
     "traceback": [
      "\u001b[0;31m---------------------------------------------------------------------------\u001b[0m",
      "\u001b[0;31mTypeError\u001b[0m                                 Traceback (most recent call last)",
      "\u001b[0;32m<ipython-input-3-68bd4a1f26cb>\u001b[0m in \u001b[0;36m<module>\u001b[0;34m\u001b[0m\n\u001b[0;32m----> 1\u001b[0;31m \u001b[0mnetwork\u001b[0m\u001b[0;34m.\u001b[0m\u001b[0mstations\u001b[0m\u001b[0;34m(\u001b[0m\u001b[0;34m)\u001b[0m\u001b[0;34m\u001b[0m\u001b[0;34m\u001b[0m\u001b[0m\n\u001b[0m",
      "\u001b[0;31mTypeError\u001b[0m: 'list' object is not callable"
     ]
    }
   ],
   "source": [
    "network.stations()"
   ]
  },
  {
   "cell_type": "code",
   "execution_count": 4,
   "metadata": {},
   "outputs": [
    {
     "data": {
      "text/plain": [
       "[Network 5O (NETWORK 5O)\n",
       "\tStation Count: None/None (Selected/Total)\n",
       "\t2019-06-30T00:00:00.000000Z - 2019-12-31T00:00:00.000000Z\n",
       "\tAccess: UNKNOWN\n",
       "\tContains:\n",
       "\t\tStations (12):\n",
       "\t\t\t5O.ENCR1 (ENCR)\n",
       "\t\t\t5O.ENCR2 (ENCR)\n",
       "\t\t\t5O.ENCR3 (ENCR)\n",
       "\t\t\t5O.ENCR4 (ENCR)\n",
       "\t\t\t5O.ENCR5 (ENCR)\n",
       "\t\t\t5O.ENCR6 (ENCR)\n",
       "\t\t\t5O.ENEA1 (ENEA)\n",
       "\t\t\t5O.ENEA2 (ENEA)\n",
       "\t\t\t5O.ENEA3 (ENEA)\n",
       "\t\t\t5O.ENEA4 (ENEA)\n",
       "\t\t\t5O.ENEA5 (ENEA)\n",
       "\t\t\t5O.ENEA6 (ENEA)\n",
       "\t\tChannels (12):\n",
       "\t\t\t5O.ENCR1.00.HDF, 5O.ENCR2.00.HDF, 5O.ENCR3.00.HDF, 5O.ENCR4.00.HDF\n",
       "\t\t\t5O.ENCR5.00.HDF, 5O.ENCR6.00.HDF, 5O.ENEA1.00.HDF, \n",
       "\t\t\t5O.ENEA2.00.HDF, 5O.ENEA3.00.HDF, 5O.ENEA4.00.HDF, 5O.ENEA5.00.HDF\n",
       "\t\t\t5O.ENEA6.00.HDF]"
      ]
     },
     "execution_count": 4,
     "metadata": {},
     "output_type": "execute_result"
    }
   ],
   "source": []
  },
  {
   "cell_type": "code",
   "execution_count": null,
   "metadata": {},
   "outputs": [],
   "source": []
  }
 ],
 "metadata": {
  "kernelspec": {
   "display_name": "Python 3",
   "language": "python",
   "name": "python3"
  },
  "language_info": {
   "codemirror_mode": {
    "name": "ipython",
    "version": 3
   },
   "file_extension": ".py",
   "mimetype": "text/x-python",
   "name": "python",
   "nbconvert_exporter": "python",
   "pygments_lexer": "ipython3",
   "version": "3.7.6"
  }
 },
 "nbformat": 4,
 "nbformat_minor": 4
}
